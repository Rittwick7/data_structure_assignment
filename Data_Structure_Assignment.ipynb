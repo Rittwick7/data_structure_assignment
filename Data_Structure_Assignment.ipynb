{
  "nbformat": 4,
  "nbformat_minor": 0,
  "metadata": {
    "colab": {
      "provenance": []
    },
    "kernelspec": {
      "name": "python3",
      "display_name": "Python 3"
    },
    "language_info": {
      "name": "python"
    }
  },
  "cells": [
    {
      "cell_type": "markdown",
      "source": [
        "#Data Structure"
      ],
      "metadata": {
        "id": "lbWOa35biT_3"
      }
    },
    {
      "cell_type": "markdown",
      "source": [
        "1. What are data structures, and why are they important?\n",
        "  - Data structure is way of organizing and storing data. Data structures are important because it can be accessed and manipulated effeciently by the computer.\n",
        "\n",
        "2. Explain the difference between mutable and immutable data types with examples.\n",
        "  - In mutable data types we can change the values after created like in 'List' and 'Set' we can add, remove and change the values after they are created. But in immutable data types we can not change the values after created like in 'String', 'Tuples' we cannot add, remove, or modify the data after they are created.\n",
        "\n",
        "3. What are the main differences between lists and tuples in Python?\n",
        "  - In python lists are mutable data types but tuples are immutable data types.\n",
        "\n",
        "4. Describe how dictionaries store data.\n",
        "  - Dictionaries are a data structure that stores data as a key value pair. It's keys are unique and immutable. Dictionary is define as {}\n",
        "  ex:- dictionary={'key':'key value\"}\n",
        "\n",
        "5. Why might you use a set instead of a list in Python?\n",
        "  - In python I use set instead of list because sets doesn't allow duplicate elements. So set is very useful to efficiently remove duplicate values from a list.\n",
        "\n",
        "6. What is a string in Python, and how is it different from a list?\n",
        "  - String is a sequence of character. where each character is a single unit of text which is helpfull to represent and manipulate textual data in programming language.\n",
        "  String is immutable means it can not be change after created but list is mutable means it's data can be change after created.\n",
        "\n",
        "7. How do tuples ensure data integrity in Python?\n",
        "  - In python once tuple created, its contents cannot be changed, this immutability ensure data integrity in python.\n",
        "\n",
        "8. What is a hash table, and how does it relate to dictionaries in Python?\n",
        "  - In Python, a hash table is a data structure that stores key-value pairs, and dictionaries are built using hash tables\n",
        "\n",
        "9. Can lists contain different data types in Python?\n",
        "  - Yes, lists can contain different data types in Python.\n",
        "\n",
        "10. Explain why strings are immutable in Python.\n",
        "  - String is a sequence of character, where each character is assigned a unique code, so you connot access one element of a string so you cannot change any element of string that's why strings are immutable.\n",
        "\n",
        "11. What advantages do dictionaries offer over lists for certain tasks?\n",
        "  - Dictionaries are as quicker as lists for searching any data.\n",
        "\n",
        "12. Describe a scenario where using a tuple would be preferable over a list.\n",
        "  - Use tuples as a data structure where you don't want to modify data. Like in a office the details of employees will store in tuples instead of lists, that's no one can modify the employee data.\n",
        "\n",
        "13. How do sets handle duplicate values in Python?\n",
        "  - In python sets doesn't allow duplicate values, its remove the duplicate values.\n",
        "\n",
        "14. How does the “in” keyword work differently for lists and dictionaries?\n",
        "  - Using \"in\" keyword we can check that the element is present or not for lists\n",
        "\n",
        "\n",
        "15. Can you modify the elements of a tuple? Explain why or why not.\n",
        "  - No, I can not modify the elements of a tuple. Because tuple is immutable so once tuple created it cannot be modify.\n",
        "\n",
        "16. What is a nested dictionary, and give an example of its use case?\n",
        "  - Nested dictionaries are dictionaries that are stored as values within another dictionary.\n",
        "  ex:- employee_records={'R001':{'name':'Raj Chandra', 'department':'Engineering','salary':95000},'R002':{'name':'Pampa Dutta', 'department':'Finance','salary':195000}}\n",
        "\n",
        "17. Describe the time complexity of accessing elements in a dictionary.\n",
        "  -\n",
        "\n",
        "18. In what situations are lists preferred over dictionaries?\n",
        "  - Where we have duplicate data but we dont want to remove the duplicate data where lists preferred over dictionaries. Example, in a office we have many employees in same name if we use dictionaries for store the employees name so we dont get all employees name in output so where we use list insted of dictionary.\n",
        "\n",
        "19. Why are dictionaries considered unordered, and how does that affect data retrieval?\n",
        "  - The ditionaries considered unordered because the items do not have a defined order, we cannot access an item by using index number, for data retrieval we can use keys instead of index number.\n",
        "\n",
        "20. Explain the difference between a list and a dictionary in terms of data retrieval.\n",
        "  - For list the data store in memory block using index value so in list we want to access any element when we use index value for access the element but for dictionary the data store in memory block as using the key that's why we can access any element in dictionary using the key of the element.\n"
      ],
      "metadata": {
        "id": "J5Sxx0Ycij3v"
      }
    },
    {
      "cell_type": "markdown",
      "source": [
        "#Practical"
      ],
      "metadata": {
        "id": "z4gHaeIG93Fr"
      }
    },
    {
      "cell_type": "code",
      "execution_count": 31,
      "metadata": {
        "id": "z8OAXBUqhuwt",
        "colab": {
          "base_uri": "https://localhost:8080/"
        },
        "outputId": "a1772a53-0d65-4cfb-8a8e-ee77b0d19d09"
      },
      "outputs": [
        {
          "output_type": "stream",
          "name": "stdout",
          "text": [
            "Rittwick Jash\n"
          ]
        }
      ],
      "source": [
        "#1. Write a code to create a string with your name and print it.\n",
        "my_name=\"Rittwick Jash\"\n",
        "print(my_name)"
      ]
    },
    {
      "cell_type": "code",
      "source": [
        "#2. Write a code to find the length of the string \"Hello World\".,\n",
        "code=\"Hello World\"\n",
        "len(code)"
      ],
      "metadata": {
        "id": "HWm0RElbidjg",
        "colab": {
          "base_uri": "https://localhost:8080/"
        },
        "outputId": "3539e603-dbdd-4421-a063-bb3e5a5f94de"
      },
      "execution_count": 2,
      "outputs": [
        {
          "output_type": "execute_result",
          "data": {
            "text/plain": [
              "11"
            ]
          },
          "metadata": {},
          "execution_count": 2
        }
      ]
    },
    {
      "cell_type": "code",
      "source": [
        "#3. Write a code to slice the first 3 characters from the string \"Python Programming\".\n",
        "c=\"Python Programming\"\n",
        "c[0:3]"
      ],
      "metadata": {
        "colab": {
          "base_uri": "https://localhost:8080/",
          "height": 35
        },
        "id": "ZWLIsO8I-5Go",
        "outputId": "62399561-eb51-48f7-df02-5075b848ac4f"
      },
      "execution_count": 3,
      "outputs": [
        {
          "output_type": "execute_result",
          "data": {
            "text/plain": [
              "'Pyt'"
            ],
            "application/vnd.google.colaboratory.intrinsic+json": {
              "type": "string"
            }
          },
          "metadata": {},
          "execution_count": 3
        }
      ]
    },
    {
      "cell_type": "code",
      "source": [
        "#4. Write a code to convert the string \"hello\" to uppercase.\n",
        "h=\"hello\"\n",
        "h.upper()"
      ],
      "metadata": {
        "colab": {
          "base_uri": "https://localhost:8080/",
          "height": 35
        },
        "id": "KE1ZyJIh_Uwo",
        "outputId": "f9e78a87-cb11-4b84-a5b1-d12abe14f23b"
      },
      "execution_count": 5,
      "outputs": [
        {
          "output_type": "execute_result",
          "data": {
            "text/plain": [
              "'HELLO'"
            ],
            "application/vnd.google.colaboratory.intrinsic+json": {
              "type": "string"
            }
          },
          "metadata": {},
          "execution_count": 5
        }
      ]
    },
    {
      "cell_type": "code",
      "source": [
        "#5. Write a code to replace the word \"apple\" with \"orange\" in the string \"I like apple\".\n",
        "s=\"I like apple\"\n",
        "s.replace(\"apple\",\"orange\")"
      ],
      "metadata": {
        "colab": {
          "base_uri": "https://localhost:8080/",
          "height": 35
        },
        "id": "i3BWZ0io_kBv",
        "outputId": "1754b002-3082-4a5c-bac1-400b1d0b0d86"
      },
      "execution_count": 6,
      "outputs": [
        {
          "output_type": "execute_result",
          "data": {
            "text/plain": [
              "'I like orange'"
            ],
            "application/vnd.google.colaboratory.intrinsic+json": {
              "type": "string"
            }
          },
          "metadata": {},
          "execution_count": 6
        }
      ]
    },
    {
      "cell_type": "code",
      "source": [
        "#6. Write a code to create a list with numbers 1 to 5 and print it.\n",
        "list=[1, 2, 3, 4, 5]\n",
        "print(list)"
      ],
      "metadata": {
        "colab": {
          "base_uri": "https://localhost:8080/"
        },
        "id": "beggalkMAG9w",
        "outputId": "59d992eb-cd3f-4c4c-b45a-d7e61ac10666"
      },
      "execution_count": 7,
      "outputs": [
        {
          "output_type": "stream",
          "name": "stdout",
          "text": [
            "[1, 2, 3, 4, 5]\n"
          ]
        }
      ]
    },
    {
      "cell_type": "code",
      "source": [
        "#7. Write a code to append the number 10 to the list [1, 2, 3, 4].\n",
        "lis=[1, 2, 3, 4]\n",
        "lis.append(10)\n",
        "print(lis)"
      ],
      "metadata": {
        "colab": {
          "base_uri": "https://localhost:8080/"
        },
        "id": "0QoEjJjRAVAf",
        "outputId": "2fd8ceeb-2530-4da7-a986-071c669372d9"
      },
      "execution_count": 8,
      "outputs": [
        {
          "output_type": "stream",
          "name": "stdout",
          "text": [
            "[1, 2, 3, 4, 10]\n"
          ]
        }
      ]
    },
    {
      "cell_type": "code",
      "source": [
        "#8. Write a code to remove the number 3 from the list [1, 2, 3, 4, 5].\n",
        "l=[1, 2, 3, 4, 5]\n",
        "l.remove(3)\n",
        "print(l)"
      ],
      "metadata": {
        "colab": {
          "base_uri": "https://localhost:8080/"
        },
        "id": "Vgl_f_nmAuaP",
        "outputId": "2521f99f-dfdb-47dd-f03d-0741737eec96"
      },
      "execution_count": 9,
      "outputs": [
        {
          "output_type": "stream",
          "name": "stdout",
          "text": [
            "[1, 2, 4, 5]\n"
          ]
        }
      ]
    },
    {
      "cell_type": "code",
      "source": [
        "#9. Write a code to access the second element in the list ['a', 'b', 'c', 'd'].\n",
        "list1=['a', 'b', 'c', 'd']\n",
        "list1[1]"
      ],
      "metadata": {
        "colab": {
          "base_uri": "https://localhost:8080/",
          "height": 35
        },
        "id": "E0evKEy3BJH3",
        "outputId": "09c97e32-22a3-4a5e-b0b4-c33b4c792aa5"
      },
      "execution_count": 10,
      "outputs": [
        {
          "output_type": "execute_result",
          "data": {
            "text/plain": [
              "'b'"
            ],
            "application/vnd.google.colaboratory.intrinsic+json": {
              "type": "string"
            }
          },
          "metadata": {},
          "execution_count": 10
        }
      ]
    },
    {
      "cell_type": "code",
      "source": [
        "#10. Write a code to reverse the list [10, 20, 30, 40, 50].\n",
        "list2=[10, 20, 30, 40, 50]\n",
        "list2.reverse()\n",
        "print(list2)"
      ],
      "metadata": {
        "colab": {
          "base_uri": "https://localhost:8080/"
        },
        "id": "EHuD7jPZBd4e",
        "outputId": "ab9db9c3-ca0c-4461-e688-8d88da7a8e28"
      },
      "execution_count": 11,
      "outputs": [
        {
          "output_type": "stream",
          "name": "stdout",
          "text": [
            "[50, 40, 30, 20, 10]\n"
          ]
        }
      ]
    },
    {
      "cell_type": "code",
      "source": [
        "#11. Write a code to create a tuple with the elements 10, 20, 30 and print it.\n",
        "t=(10, 20, 30)\n",
        "print(t)"
      ],
      "metadata": {
        "colab": {
          "base_uri": "https://localhost:8080/"
        },
        "id": "cTCnbgP7B9zX",
        "outputId": "3b345c9f-22df-4b22-dcc0-4fca4d7d1cba"
      },
      "execution_count": 12,
      "outputs": [
        {
          "output_type": "stream",
          "name": "stdout",
          "text": [
            "(10, 20, 30)\n"
          ]
        }
      ]
    },
    {
      "cell_type": "code",
      "source": [
        "#12. Write a code to access the first element of the tuple ('apple', 'banana', 'cherry').\n",
        "tupple=('apple', 'banana', 'cherry')\n",
        "tupple[0]"
      ],
      "metadata": {
        "colab": {
          "base_uri": "https://localhost:8080/",
          "height": 35
        },
        "id": "d6GQJjimCKpf",
        "outputId": "922ca79d-17c7-4028-f737-03025f332d1e"
      },
      "execution_count": 14,
      "outputs": [
        {
          "output_type": "execute_result",
          "data": {
            "text/plain": [
              "'apple'"
            ],
            "application/vnd.google.colaboratory.intrinsic+json": {
              "type": "string"
            }
          },
          "metadata": {},
          "execution_count": 14
        }
      ]
    },
    {
      "cell_type": "code",
      "source": [
        "#13. Write a code to count how many times the number 2 appears in the tuple (1, 2, 3, 2, 4, 2).\n",
        "t2=(1, 2, 3, 2, 4, 2)\n",
        "t2.count(2)"
      ],
      "metadata": {
        "colab": {
          "base_uri": "https://localhost:8080/"
        },
        "id": "a9WtEmewCNYO",
        "outputId": "74f16068-92d2-4f5f-cd61-9afaf7bcb42d"
      },
      "execution_count": 18,
      "outputs": [
        {
          "output_type": "execute_result",
          "data": {
            "text/plain": [
              "3"
            ]
          },
          "metadata": {},
          "execution_count": 18
        }
      ]
    },
    {
      "cell_type": "code",
      "source": [
        "#14. Write a code to find the index of the element \"cat\" in the tuple ('dog', 'cat', 'rabbit').\n",
        "t3=('dog', 'cat', 'rabbit')\n",
        "t3.index('cat')"
      ],
      "metadata": {
        "colab": {
          "base_uri": "https://localhost:8080/"
        },
        "id": "RSd9iyToDKqX",
        "outputId": "7a4ce522-1a5c-42e4-de61-dea4b38f5907"
      },
      "execution_count": 19,
      "outputs": [
        {
          "output_type": "execute_result",
          "data": {
            "text/plain": [
              "1"
            ]
          },
          "metadata": {},
          "execution_count": 19
        }
      ]
    },
    {
      "cell_type": "code",
      "source": [
        "#15. Write a code to check if the element \"banana\" is in the tuple ('apple', 'orange', 'banana').\n",
        "t4=('apple', 'orange', 'banana')\n",
        "'banana' in t4"
      ],
      "metadata": {
        "colab": {
          "base_uri": "https://localhost:8080/"
        },
        "id": "zGdd9IqLDoMO",
        "outputId": "cf6fa5e8-7e07-4032-c287-0d4dd9455454"
      },
      "execution_count": 20,
      "outputs": [
        {
          "output_type": "execute_result",
          "data": {
            "text/plain": [
              "True"
            ]
          },
          "metadata": {},
          "execution_count": 20
        }
      ]
    },
    {
      "cell_type": "code",
      "source": [
        "#16. Write a code to create a set with the elements 1, 2, 3, 4, 5 and print it.\n",
        "set={1, 2, 3, 4, 4, 5}\n",
        "print(set)"
      ],
      "metadata": {
        "colab": {
          "base_uri": "https://localhost:8080/"
        },
        "id": "oOGLjqa5EEkW",
        "outputId": "97b6f297-ef11-40e6-eb4b-36c295085433"
      },
      "execution_count": 21,
      "outputs": [
        {
          "output_type": "stream",
          "name": "stdout",
          "text": [
            "{1, 2, 3, 4, 5}\n"
          ]
        }
      ]
    },
    {
      "cell_type": "code",
      "source": [
        "#17. Write a code to add the element 6 to the set {1, 2, 3, 4}.\n",
        "s1={1, 2, 3, 4}\n",
        "s1.add(6)\n",
        "print(s1)"
      ],
      "metadata": {
        "colab": {
          "base_uri": "https://localhost:8080/"
        },
        "id": "AnCl11pcERn-",
        "outputId": "3029f4d6-31fc-48e7-9568-193f8623264b"
      },
      "execution_count": 23,
      "outputs": [
        {
          "output_type": "stream",
          "name": "stdout",
          "text": [
            "{1, 2, 3, 4, 6}\n"
          ]
        }
      ]
    },
    {
      "cell_type": "code",
      "source": [
        "#18. Write a code to create a tuple with the elements 10, 20, 30 and print it.\n",
        "t=(10,20,30)\n",
        "print(t)"
      ],
      "metadata": {
        "colab": {
          "base_uri": "https://localhost:8080/"
        },
        "id": "ZPGai63mEVPm",
        "outputId": "c69aff32-b99f-4a4c-d2f1-350cc759d03a"
      },
      "execution_count": 24,
      "outputs": [
        {
          "output_type": "stream",
          "name": "stdout",
          "text": [
            "(10, 20, 30)\n"
          ]
        }
      ]
    },
    {
      "cell_type": "code",
      "source": [
        "#19. Write a code to access the first element of the tuple ('apple', 'banana', 'cherry').\n",
        "tupple=('apple', 'banana', 'cherry')\n",
        "tupple[0]"
      ],
      "metadata": {
        "colab": {
          "base_uri": "https://localhost:8080/",
          "height": 35
        },
        "id": "L1MkboDvE_UT",
        "outputId": "09eebdcf-ac0c-4532-a2d0-0a3d65937a25"
      },
      "execution_count": 25,
      "outputs": [
        {
          "output_type": "execute_result",
          "data": {
            "text/plain": [
              "'apple'"
            ],
            "application/vnd.google.colaboratory.intrinsic+json": {
              "type": "string"
            }
          },
          "metadata": {},
          "execution_count": 25
        }
      ]
    },
    {
      "cell_type": "code",
      "source": [
        "#20. Write a code to count how many times the number 2 appears in the tuple (1, 2, 3, 2, 4, 2).\n",
        "t2=(1, 2, 3, 2, 4, 2)\n",
        "t2.count(2)"
      ],
      "metadata": {
        "colab": {
          "base_uri": "https://localhost:8080/"
        },
        "id": "huMFyKr3FWwm",
        "outputId": "95f2bfcf-7924-43ec-dfb5-2d4a9d7c9d58"
      },
      "execution_count": 26,
      "outputs": [
        {
          "output_type": "execute_result",
          "data": {
            "text/plain": [
              "3"
            ]
          },
          "metadata": {},
          "execution_count": 26
        }
      ]
    },
    {
      "cell_type": "code",
      "source": [
        "#21. Write a code to find the index of the element \"cat\" in the tuple ('dog', 'cat', 'rabbit').\n",
        "t3=('dog', 'cat', 'rabbit')\n",
        "t3.index('cat')"
      ],
      "metadata": {
        "colab": {
          "base_uri": "https://localhost:8080/"
        },
        "id": "JZVNrjZEFjvV",
        "outputId": "9bdb5767-1ae9-47d8-a7ab-fa8ca87ffa3a"
      },
      "execution_count": 27,
      "outputs": [
        {
          "output_type": "execute_result",
          "data": {
            "text/plain": [
              "1"
            ]
          },
          "metadata": {},
          "execution_count": 27
        }
      ]
    },
    {
      "cell_type": "code",
      "source": [
        "#22. Write a code to check if the element \"banana\" is in the tuple ('apple', 'orange', 'banana').\n",
        "t4=('apple', 'orange', 'banana')\n",
        "'banana' in t4"
      ],
      "metadata": {
        "colab": {
          "base_uri": "https://localhost:8080/"
        },
        "id": "cRQZlEK9Fw9F",
        "outputId": "12665ae7-60c6-481f-d798-5c0e3dc971d2"
      },
      "execution_count": 28,
      "outputs": [
        {
          "output_type": "execute_result",
          "data": {
            "text/plain": [
              "True"
            ]
          },
          "metadata": {},
          "execution_count": 28
        }
      ]
    },
    {
      "cell_type": "code",
      "source": [
        "#23. Write a code to create a set with the elements 1, 2, 3, 4, 5 and print it.\n",
        "set={1, 2, 3, 4, 4, 5}\n",
        "print(set)"
      ],
      "metadata": {
        "colab": {
          "base_uri": "https://localhost:8080/"
        },
        "id": "kh4fOw9_F9eF",
        "outputId": "3bc3a1f5-5dfa-48e1-aeff-89ab3e610faa"
      },
      "execution_count": 29,
      "outputs": [
        {
          "output_type": "stream",
          "name": "stdout",
          "text": [
            "{1, 2, 3, 4, 5}\n"
          ]
        }
      ]
    },
    {
      "cell_type": "code",
      "source": [
        "#24. Write a code to add the element 6 to the set {1, 2, 3, 4}.\n",
        "s1={1, 2, 3, 4}\n",
        "s1.add(6)\n",
        "print(s1)"
      ],
      "metadata": {
        "colab": {
          "base_uri": "https://localhost:8080/"
        },
        "id": "Nqpcnp7IGI8e",
        "outputId": "23a640b7-48f2-4cb1-eacf-da49706f7e86"
      },
      "execution_count": 30,
      "outputs": [
        {
          "output_type": "stream",
          "name": "stdout",
          "text": [
            "{1, 2, 3, 4, 6}\n"
          ]
        }
      ]
    },
    {
      "cell_type": "markdown",
      "source": [
        "                           \n",
        "                                                         \n",
        "                                                         ** The End **"
      ],
      "metadata": {
        "id": "le17A7AfGVB0"
      }
    }
  ]
}